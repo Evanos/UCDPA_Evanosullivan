{
 "cells": [
  {
   "cell_type": "code",
   "execution_count": 20,
   "id": "46adeb50-db41-4e09-9343-22459ce1f6c4",
   "metadata": {},
   "outputs": [],
   "source": [
    "import pandas as pd\n",
    "import numpy as py\n",
    "import matplotlib.pyplot as plt\n",
    "import seaborn as sns\n",
    "\n"
   ]
  },
  {
   "cell_type": "code",
   "execution_count": 30,
   "id": "1c93baad-d275-4c49-a494-b23ee8c91fd8",
   "metadata": {},
   "outputs": [
    {
     "name": "stdout",
     "output_type": "stream",
     "text": [
      "            Date   S&P500\n",
      "0     2013-03-25  1551.69\n",
      "1     2013-03-26  1563.77\n",
      "2     2013-03-27  1562.85\n",
      "3     2013-03-28  1569.19\n",
      "4     2013-04-01  1562.17\n",
      "...          ...      ...\n",
      "2513  2023-03-17  3916.64\n",
      "2514  2023-03-20  3951.57\n",
      "2515  2023-03-21  4002.87\n",
      "2516  2023-03-22  3936.97\n",
      "2517  2023-03-23  3948.72\n",
      "\n",
      "[2518 rows x 2 columns]\n"
     ]
    },
    {
     "data": {
      "image/png": "[encoded data removed]",
      "text/plain": [
       "<Figure size 432x288 with 1 Axes>"
      ]
     },
     "metadata": {
      "needs_background": "light"
     },
     "output_type": "display_data"
    }
   ],
   "source": [
    "Stocks500 = pd.read_csv(r'C:\\Users\\evano\\UCDPA_Project\\sp500_stocks.csv')\n",
    "index500 = pd.read_csv(r'C:\\Users\\evano\\UCDPA_Project\\sp500_index.csv')\n",
    "companies500 = pd.read_csv(r'C:\\Users\\evano\\UCDPA_Project\\sp500_companies (1).csv')\n",
    "\n",
    "print(index500)\n",
    "\n",
    "x =[5, 7, 8, 7, 2, 17, 2, 9,\n",
    "    4, 11, 12, 9, 6]\n",
    " \n",
    "y =[99, 86, 87, 88, 100, 86,\n",
    "    103, 87, 94, 78, 77, 85, 86]\n",
    " \n",
    "plt.scatter(x, y, c =\"blue\")\n",
    " \n",
    "\n",
    "plt.show()"
   ]
  },
  {
   "cell_type": "code",
   "execution_count": null,
   "id": "69596776-56f5-4764-9c52-5f31dbd34e50",
   "metadata": {},
   "outputs": [],
   "source": []
  }
 ],
 "metadata": {
  "kernelspec": {
   "display_name": "Python 3",
   "language": "python",
   "name": "python3"
  },
  "language_info": {
   "codemirror_mode": {
    "name": "ipython",
    "version": 3
   },
   "file_extension": ".py",
   "mimetype": "text/x-python",
   "name": "python",
   "nbconvert_exporter": "python",
   "pygments_lexer": "ipython3",
   "version": "3.8.8"
  }
 },
 "nbformat": 4,
 "nbformat_minor": 5
}
